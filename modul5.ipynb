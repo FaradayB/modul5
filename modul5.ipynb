{
 "cells": [
  {
   "cell_type": "markdown",
   "metadata": {},
   "source": [
    "# Koneksi Database MySQL\n",
    "\n",
    "### Dasar Teori\n",
    "\n",
    "MySQL sendiri adalah sebuah database management system yang menggunakan perintah dasar SQL (Structured Query Language) yang bersifat open source.\n",
    "\n",
    "MySQL memiliki antarmuka atau interface yang Bernama PHPMyAdmin.\n",
    "\n",
    "Keunggulan MySQL:\n",
    "1. Does not require a big RAM resource\n",
    "2. Compatible with a lot of programming languages\n",
    "3. flexible data structure"
   ]
  },
  {
   "cell_type": "markdown",
   "metadata": {},
   "source": [
    "#\n",
    "### Instalasi mysql-connector"
   ]
  },
  {
   "cell_type": "markdown",
   "metadata": {},
   "source": [
    "#### Koneksi ke MySQL"
   ]
  },
  {
   "cell_type": "code",
   "execution_count": 3,
   "metadata": {
    "scrolled": true
   },
   "outputs": [
    {
     "name": "stdout",
     "output_type": "stream",
     "text": [
      "Connection successful\n"
     ]
    }
   ],
   "source": [
    "import mysql.connector\n",
    "\n",
    "db = mysql.connector.connect(\n",
    "    host = \"localhost\",\n",
    "    user = \"root\",\n",
    "    password = \"\",\n",
    ")\n",
    "\n",
    "if db.is_connected():\n",
    "    print(\"Connection successful\")"
   ]
  },
  {
   "cell_type": "markdown",
   "metadata": {},
   "source": [
    "#### Membuat database baru"
   ]
  },
  {
   "cell_type": "code",
   "execution_count": 4,
   "metadata": {},
   "outputs": [
    {
     "name": "stdout",
     "output_type": "stream",
     "text": [
      "Database created successfully\n"
     ]
    }
   ],
   "source": [
    "db = mysql.connector.connect(\n",
    "    host = \"localhost\",\n",
    "    user = \"root\",\n",
    "    password = \"\",\n",
    ")\n",
    "\n",
    "real = db.cursor()\n",
    "real.execute(\"CREATE DATABASE IF NOT EXISTS seantuy\")\n",
    "print(\"Database created successfully\")"
   ]
  },
  {
   "cell_type": "markdown",
   "metadata": {},
   "source": [
    "#### Mengecek Database\n",
    "\n",
    "mengecek database dapat dilakukan dengan membuka aplikasi phpMyAdmin dengan membuka http://localhost/phpmyadmin atau menggunakan code berikut"
   ]
  },
  {
   "cell_type": "code",
   "execution_count": 20,
   "metadata": {},
   "outputs": [
    {
     "name": "stdout",
     "output_type": "stream",
     "text": [
      "[('book_supplier',), ('hmtk',), ('information_schema',), ('mysql',), ('performance_schema',), ('phpmyadmin',), ('seantuy',), ('snek',), ('sriarsa',)]\n",
      " \n",
      "book_supplier\n",
      "hmtk\n",
      "information_schema\n",
      "mysql\n",
      "performance_schema\n",
      "phpmyadmin\n",
      "seantuy\n",
      "snek\n",
      "sriarsa\n"
     ]
    }
   ],
   "source": [
    "db = mysql.connector.connect(\n",
    "    host = \"localhost\",\n",
    "    user = \"root\",\n",
    "    password = \"\",\n",
    ")\n",
    "real = db.cursor()\n",
    "real.execute(\"SHOW DATABASES\")\n",
    "\n",
    "list_db = real.fetchall()\n",
    "print(list_db)\n",
    "print(\" \")\n",
    "list_db = [ i[0] for i in list_db]\n",
    "for i in list_db:\n",
    "    print(i)"
   ]
  },
  {
   "cell_type": "markdown",
   "metadata": {},
   "source": [
    "### CRUD (Create, Read, Update, Delete)\n",
    "\n",
    "CRUD adalah singkatan yang berasal dari Create, Read, Update, dan Delete, dimana keempat istilah tersebut merupakan perintah utama yang nantinya diimplementasikan ke dalam basis data. Ada tambahan yaitu Insert Data\n"
   ]
  },
  {
   "cell_type": "markdown",
   "metadata": {},
   "source": [
    "#### Membuat Table (Create)"
   ]
  },
  {
   "cell_type": "code",
   "execution_count": 5,
   "metadata": {},
   "outputs": [
    {
     "name": "stdout",
     "output_type": "stream",
     "text": [
      "Table created\n"
     ]
    }
   ],
   "source": [
    "db = mysql.connector.connect(\n",
    "    host = \"localhost\",\n",
    "    user = \"root\",\n",
    "    password = \"\",\n",
    "    database = \"seantuy\"\n",
    ")\n",
    "real = db.cursor()\n",
    "table_content = '''CREATE TABLE IF NOT EXISTS asisten_lab (\n",
    "    id_aslab INT AUTO_INCREMENT PRIMARY KEY,\n",
    "    nama VARCHAR(255),\n",
    "    kode VARCHAR(255),\n",
    "    umur INT\n",
    ")\n",
    "'''\n",
    "real.execute(table_content)\n",
    "print(\"Table created\")"
   ]
  },
  {
   "cell_type": "markdown",
   "metadata": {},
   "source": [
    "#### Mengisi data ke tabel (Insert)"
   ]
  },
  {
   "cell_type": "code",
   "execution_count": 6,
   "metadata": {},
   "outputs": [],
   "source": [
    "db = mysql.connector.connect(\n",
    "    host = \"localhost\",\n",
    "    user = \"root\",\n",
    "    password = \"\",\n",
    "    database = \"seantuy\"\n",
    ")\n",
    "real = db.cursor()\n",
    "\n",
    "data_table = \"INSERT INTO asisten_lab (nama, kode, umur) VALUES (%s, %s, %s)\"\n",
    "value = [\n",
    "    ('Faraday', 'ARA', 20),\n",
    "    ('Cetta', 'CMA', 22),\n",
    "    ('Aldo', 'DAO', 20)\n",
    "]\n",
    "\n",
    "for val in value:\n",
    "    real.execute(data_table, val)\n",
    "    db.commit()\n"
   ]
  },
  {
   "cell_type": "markdown",
   "metadata": {},
   "source": [
    "#### Membaca isi tabel (Read)"
   ]
  },
  {
   "cell_type": "code",
   "execution_count": 7,
   "metadata": {},
   "outputs": [
    {
     "name": "stdout",
     "output_type": "stream",
     "text": [
      "('Faraday', 'ARA')\n",
      "('Cetta', 'CMA')\n",
      "('Aldo', 'DAO')\n"
     ]
    }
   ],
   "source": [
    "db = mysql.connector.connect(\n",
    "    host = \"localhost\",\n",
    "    user = \"root\",\n",
    "    password = \"\",\n",
    "    database = \"seantuy\"\n",
    ")\n",
    "real = db.cursor()\n",
    "real.execute(\"SELECT nama,kode FROM asisten_lab\")\n",
    "\n",
    "data = real.fetchall()\n",
    "\n",
    "for  x in data:\n",
    "    print(x)"
   ]
  },
  {
   "cell_type": "markdown",
   "metadata": {},
   "source": [
    "#### Mengubah isi tabel (Update)"
   ]
  },
  {
   "cell_type": "code",
   "execution_count": 35,
   "metadata": {},
   "outputs": [
    {
     "name": "stdout",
     "output_type": "stream",
     "text": [
      "('Pepe', 'PPE')\n"
     ]
    }
   ],
   "source": [
    "db = mysql.connector.connect(\n",
    "    host = \"localhost\",\n",
    "    user = \"root\",\n",
    "    password = \"\",\n",
    "    database = \"seantuy\"\n",
    ")\n",
    "real = db.cursor()\n",
    "\n",
    "kondisi = input(\"Masukkan Nama yang mau diubah : \")\n",
    "nama = input(\"Masukkan Nama Baru : \")\n",
    "kode = input(\"Masukkan Kode Baru : \")\n",
    "umur = input(\"Masukkan Umur Baru : \")\n",
    "\n",
    "ubah = \"UPDATE asisten_lab SET nama = %s, kode = %s, umur = %s WHERE nama = %s\"\n",
    "data_ubah = (nama, kode, umur, kondisi)\n",
    "real.execute(ubah,data_ubah)\n",
    "\n",
    "db.commit()\n",
    "\n",
    "real.execute(f\"SELECT nama,kode FROM asisten_lab WHERE nama = '{nama}'\")\n",
    "data = real.fetchall()\n",
    "\n",
    "for x in data:\n",
    "    print(x)"
   ]
  },
  {
   "cell_type": "markdown",
   "metadata": {},
   "source": [
    "#### Menghapus data (Delete)"
   ]
  },
  {
   "cell_type": "code",
   "execution_count": 21,
   "metadata": {},
   "outputs": [
    {
     "name": "stdout",
     "output_type": "stream",
     "text": [
      "Nama : Faraday\n",
      "Kode : ARA\n",
      "Umur : 20\n",
      "===================\n",
      "Nama : Aldo\n",
      "Kode : DAO\n",
      "Umur : 20\n",
      "===================\n"
     ]
    }
   ],
   "source": [
    "db = mysql.connector.connect(\n",
    "    host = \"localhost\",\n",
    "    user = \"root\",\n",
    "    password = \"\",\n",
    "    database = \"seantuy\"\n",
    ")\n",
    "real = db.cursor()\n",
    "data_delete = \"DELETE FROM asisten_lab WHERE nama = %s\"\n",
    "#val = \"Cetta\"\n",
    "val = input(\"Masukkan nama dari data yang akan dihapus : \")\n",
    "\n",
    "real.execute(data_delete,(val, ))\n",
    "db.commit()\n",
    "\n",
    "\n",
    "real.execute(\"SELECT nama,kode,umur FROM asisten_lab\")\n",
    "data = real.fetchall()\n",
    "\n",
    "for x in data:\n",
    "    print(f\"Nama : {x[0]}\")\n",
    "    print(f\"Kode : {x[1]}\")\n",
    "    print(f\"Umur : {x[2]}\")\n",
    "    print(\"===================\")"
   ]
  },
  {
   "cell_type": "markdown",
   "metadata": {},
   "source": [
    "#### Menghapus Tabel (Delete)"
   ]
  },
  {
   "cell_type": "code",
   "execution_count": null,
   "metadata": {},
   "outputs": [],
   "source": [
    "db = mysql.connector.connect(\n",
    "    host = \"localhost\",\n",
    "    user = \"root\",\n",
    "    password = \"\",\n",
    "    database = \"seantuy\"\n",
    ")\n",
    "real = db.cursor()\n",
    "nama_tabel = input(\"Masukkan nama tabel: \")\n",
    "jawaban = input(f\"Apakah kamu benar benar ingin menghapus {nama_tabel} (y/n)\") \n",
    "if ( jawaban == \"y\" or jawaban == \"Y\") :\n",
    "        real.execute(f\"DROP TABLE {nama_tabel}\")\n",
    "        print(\"Table berhasil Terhapus!\")\n",
    "else :\n",
    "    print(\"Oke gajadi\")"
   ]
  },
  {
   "cell_type": "markdown",
   "metadata": {},
   "source": [
    "#### Menghapus Databse (Delete)"
   ]
  },
  {
   "cell_type": "code",
   "execution_count": 1,
   "metadata": {},
   "outputs": [
    {
     "ename": "NameError",
     "evalue": "name 'mysql' is not defined",
     "output_type": "error",
     "traceback": [
      "\u001b[1;31m---------------------------------------------------------------------------\u001b[0m",
      "\u001b[1;31mNameError\u001b[0m                                 Traceback (most recent call last)",
      "\u001b[1;32m<ipython-input-1-317b7ddfb8ce>\u001b[0m in \u001b[0;36m<module>\u001b[1;34m\u001b[0m\n\u001b[1;32m----> 1\u001b[1;33m db = mysql.connector.connect(\n\u001b[0m\u001b[0;32m      2\u001b[0m     \u001b[0mhost\u001b[0m \u001b[1;33m=\u001b[0m \u001b[1;34m\"localhost\"\u001b[0m\u001b[1;33m,\u001b[0m\u001b[1;33m\u001b[0m\u001b[1;33m\u001b[0m\u001b[0m\n\u001b[0;32m      3\u001b[0m     \u001b[0muser\u001b[0m \u001b[1;33m=\u001b[0m \u001b[1;34m\"root\"\u001b[0m\u001b[1;33m,\u001b[0m\u001b[1;33m\u001b[0m\u001b[1;33m\u001b[0m\u001b[0m\n\u001b[0;32m      4\u001b[0m     \u001b[0mpassword\u001b[0m \u001b[1;33m=\u001b[0m \u001b[1;34m\"\"\u001b[0m\u001b[1;33m\u001b[0m\u001b[1;33m\u001b[0m\u001b[0m\n\u001b[0;32m      5\u001b[0m )\n",
      "\u001b[1;31mNameError\u001b[0m: name 'mysql' is not defined"
     ]
    }
   ],
   "source": [
    "db = mysql.connector.connect(\n",
    "    host = \"localhost\",\n",
    "    user = \"root\",\n",
    "    password = \"\"\n",
    ")\n",
    "real = db.cursor()\n",
    "nama_db = input(\"Masukkan nama database: \")\n",
    "jawaban = input(f\"Apakah kamu benar benar ingin menghapus {nama_db} (y/n)\") \n",
    "if ( jawaban == \"y\" or jawaban == \"Y\") :\n",
    "        real.execute(f\"DROP DATABASE {nama_db}\")\n",
    "        print(\"Database berhasil Terhapus!\")\n",
    "else :\n",
    "    print(\"Oke gajadi\")"
   ]
  }
 ],
 "metadata": {
  "kernelspec": {
   "display_name": "Python 3 (ipykernel)",
   "language": "python",
   "name": "python3"
  },
  "language_info": {
   "codemirror_mode": {
    "name": "ipython",
    "version": 3
   },
   "file_extension": ".py",
   "mimetype": "text/x-python",
   "name": "python",
   "nbconvert_exporter": "python",
   "pygments_lexer": "ipython3",
   "version": "3.8.8"
  }
 },
 "nbformat": 4,
 "nbformat_minor": 4
}
